{
 "cells": [
  {
   "cell_type": "markdown",
   "metadata": {},
   "source": [
    "# Aaron's Notebook"
   ]
  },
  {
   "cell_type": "markdown",
   "metadata": {},
   "source": [
    "## Dataset:"
   ]
  },
  {
   "cell_type": "markdown",
   "metadata": {},
   "source": [
    "Title: Fire Incidents in City of Pittsburgh\n",
    "\n",
    "Link: https://data.wprdc.org/dataset/fire-incidents-in-city-of-pittsburgh\n",
    "\n",
    "Analysis: The dataset includes data about fires in Pittsburgh, such as the type of fire, the neighborhood, numbers of alarms that went off, etc. I chose this dataset because it can give insight on how many incidents happen in a neighborhood, and that definitely affects the quality of the neighborhood. I plan on using this dataset in our code to see if there are many fires in certain neighborhoods."
   ]
  },
  {
   "cell_type": "markdown",
   "metadata": {},
   "source": [
    "# Answer: Mount Oliver Borough\n",
    "\n",
    "What is the best neighborhood in Pittsburgh based on your work? How did you determine this answer?\n",
    "\n",
    "*While the data is not complete because I have not yet analyzed the population in each neighborhood (since it is not included in this dataset) and I have also not yet analyzed the cause of each fire in each neighborhood, we can assume that the \"best\" neighborhood is Mount Oliver Borough. Of course this is not completely accurately since we are missing a lot of criteria that would help make sure it's an accurate answer. Still, with he data we have, this is the answer we can come up with.*"
   ]
  },
  {
   "cell_type": "code",
   "execution_count": 2,
   "metadata": {},
   "outputs": [
    {
     "name": "stdout",
     "output_type": "stream",
     "text": [
      "The number of columns in the dataset is 18\n"
     ]
    },
    {
     "data": {
      "text/plain": [
       "['address',\n",
       " 'alarm_time',\n",
       " 'alarms',\n",
       " 'call_no',\n",
       " 'census_tract',\n",
       " 'council_district',\n",
       " 'fire_zone',\n",
       " 'incident_type',\n",
       " 'latitude',\n",
       " 'longitude',\n",
       " 'neighborhood',\n",
       " 'pli_division',\n",
       " 'police_zone',\n",
       " 'primary_unit',\n",
       " 'public_works_division',\n",
       " 'tract',\n",
       " 'type_description',\n",
       " 'ward']"
      ]
     },
     "execution_count": 2,
     "metadata": {},
     "output_type": "execute_result"
    }
   ],
   "source": [
    "import pandas as pd\n",
    "import numpy as np\n",
    "%matplotlib inline\n",
    "import matplotlib.pyplot as plt\n",
    "\n",
    "\n",
    "fire = pd.read_csv(r'fire_incidents.csv')\n",
    "\n",
    "# Here I just count the columns in the dataset, as well as list all of them.\n",
    "print(\"The number of columns in the dataset is \" + str(len(fire.columns)))\n",
    "sorted(fire) "
   ]
  },
  {
   "cell_type": "code",
   "execution_count": 21,
   "metadata": {},
   "outputs": [
    {
     "name": "stdout",
     "output_type": "stream",
     "text": [
      "[nan 'Fineview' 'Fairywood' 'South Side Flats' 'Allegheny Center'\n",
      " 'Lincoln-Lemington-Belmar' 'Carrick' 'Beechview' 'Allentown'\n",
      " 'Beltzhoover' 'Crafton Heights' 'Homewood North' 'Squirrel Hill South'\n",
      " 'Perry North' 'Bedford Dwellings' 'Homewood South' 'East Allegheny'\n",
      " 'Crawford-Roberts' 'Sheraden' 'Middle Hill' 'Strip District' 'East Hills'\n",
      " 'Garfield' 'Greenfield' 'North Shore' 'Spring Hill-City View'\n",
      " 'Central Business District' 'Upper Hill' 'Manchester' 'Overbrook'\n",
      " 'Polish Hill' 'Central Lawrenceville' 'Brookline' 'Marshall-Shadeland'\n",
      " 'North Oakland' 'South Oakland' 'Homewood West' 'East Liberty'\n",
      " 'Hazelwood' 'Squirrel Hill North' 'Friendship' 'West Oakland'\n",
      " 'Terrace Village' 'Brighton Heights' 'Troy Hill' 'Windgap' 'Knoxville'\n",
      " 'Upper Lawrenceville' 'Arlington' 'Elliott' 'South Side Slopes'\n",
      " 'Bloomfield' 'Perry South' 'Central Northside' 'Point Breeze' 'Bluff'\n",
      " 'Mount Washington' 'Point Breeze North' 'Swisshelm Park' 'Banksville'\n",
      " 'Shadyside' 'Spring Garden' 'Regent Square' 'Allegheny West'\n",
      " 'Lower Lawrenceville' 'Larimer' 'Highland Park' 'Stanton Heights'\n",
      " 'Bon Air' 'Glen Hazel' 'Lincoln Place' 'West End' 'Central Oakland'\n",
      " 'Ridgemont' 'Westwood' 'Summer Hill' 'Esplen' 'Morningside' 'Hays'\n",
      " 'Duquesne Heights' 'California-Kirkbride' 'Northview Heights'\n",
      " 'New Homestead' 'Chateau' 'Mount Oliver Borough' 'St. Clair'\n",
      " 'East Carnegie' 'Arlington Heights' 'South Shore' 'Oakwood'\n",
      " 'Chartiers City' 'Mt. Oliver']\n"
     ]
    },
    {
     "data": {
      "text/plain": [
       "92"
      ]
     },
     "execution_count": 21,
     "metadata": {},
     "output_type": "execute_result"
    }
   ],
   "source": [
    "print(fire[\"neighborhood\"].unique()) # This is to show all the neighborhoods\n",
    "len(fire[\"neighborhood\"].unique()) # This just gives the number of neighborhoods so we don't have to count"
   ]
  },
  {
   "cell_type": "code",
   "execution_count": 23,
   "metadata": {},
   "outputs": [
    {
     "data": {
      "text/plain": [
       "Cooking fire, confined to container                   1892\n",
       "Building fire                                         1733\n",
       "Passenger vehicle fire                                 951\n",
       "Outside rubbish, trash or waste fire                   641\n",
       "Brush or brush-and-grass mixture fire                  458\n",
       "Outside rubbish fire, Other                            458\n",
       "Dumpster or other outside trash receptacle fire        384\n",
       "Trash or rubbish fire, contained                       379\n",
       "Special outside fire, Other                            215\n",
       "Natural vegetation fire, Other                         207\n",
       "Mobile property (vehicle) fire, Other                  172\n",
       "Fires in structure other than in a building            116\n",
       "Grass fire                                             110\n",
       "Fire, Other                                             98\n",
       "Outside equipment fire                                  62\n",
       "Fuel burner/boiler malfunction, fire confined           54\n",
       "Chimney or flue fire, confined to chimney or flue       45\n",
       "Road freight or transport vehicle fire                  39\n",
       "Forest, woods or wildland fire                          33\n",
       "Construction or demolition landfill fire                24\n",
       "Outside storage fire                                    18\n",
       "Commercial Compactor fire, confined to rubbish          13\n",
       "Off-road vehicle or heavy equipment fire                13\n",
       "Fire in portable building, fixed location               12\n",
       "Outside stationary compactor/compacted trash fire       10\n",
       "Water vehicle fire                                       7\n",
       "Fire in motor home, camper, recreational vehicle         6\n",
       "Incinerator overload or malfunction, fire confined       6\n",
       "Garbage dump or sanitary landfill fire                   5\n",
       "Cultivated vegetation, crop fire, Other                  5\n",
       "Camper or recreational vehicle (RV) fire                 4\n",
       "Outside mailbox fire                                     3\n",
       "Fire in mobile prop used as a fixed struc, Other         3\n",
       "Fire in mobile home used as fixed residence              3\n",
       "Rail vehicle fire                                        3\n",
       "Cultivated trees or nursery stock fire                   3\n",
       "Outside gas or vapor combustion explosion                2\n",
       "Cultivated grain or crop fire                            1\n",
       "Self-propelled motor home or recreational vehicle        1\n",
       "Name: type_description, dtype: int64"
      ]
     },
     "execution_count": 23,
     "metadata": {},
     "output_type": "execute_result"
    }
   ],
   "source": [
    "fire[\"type_description\"].value_counts() \n",
    "# This shows all the reasons for the fires, as well as how many incidents caused by each."
   ]
  },
  {
   "cell_type": "code",
   "execution_count": 22,
   "metadata": {},
   "outputs": [
    {
     "data": {
      "text/plain": [
       "Carrick                      255\n",
       "Squirrel Hill South          226\n",
       "Central Business District    225\n",
       "South Side Flats             220\n",
       "Hazelwood                    213\n",
       "                            ... \n",
       "St. Clair                     11\n",
       "Mt. Oliver                    10\n",
       "East Carnegie                 10\n",
       "Regent Square                  7\n",
       "Mount Oliver Borough           6\n",
       "Name: neighborhood, Length: 91, dtype: int64"
      ]
     },
     "execution_count": 22,
     "metadata": {},
     "output_type": "execute_result"
    }
   ],
   "source": [
    "fire[\"neighborhood\"].value_counts()\n",
    "# This is just to give the amount of fires in each neighborhood"
   ]
  },
  {
   "cell_type": "code",
   "execution_count": 13,
   "metadata": {
    "collapsed": true,
    "jupyter": {
     "outputs_hidden": true
    }
   },
   "outputs": [
    {
     "data": {
      "text/plain": [
       "Text(0, 0.5, 'Number of Fires')"
      ]
     },
     "execution_count": 13,
     "metadata": {},
     "output_type": "execute_result"
    },
    {
     "data": {
      "image/png": "[encoded data removed]",
      "text/plain": [
       "<Figure size 432x288 with 1 Axes>"
      ]
     },
     "metadata": {
      "needs_background": "light"
     },
     "output_type": "display_data"
    }
   ],
   "source": [
    "fig, ax = plt.subplots()\n",
    "data = fire[\"neighborhood\"].value_counts()\n",
    "points = data.index\n",
    "frequency = data.values\n",
    "ax.bar(points, frequency)\n",
    "ax.set_title(\"Fires in Neighborhoods\")\n",
    "ax.set_xlabel(\"Neighborhood\")\n",
    "ax.set_ylabel(\"Number of Fires\")\n",
    "# This showed a bar graph, but it included all 91 neighborhoods so the graph was not legible at all."
   ]
  },
  {
   "cell_type": "code",
   "execution_count": 3,
   "metadata": {},
   "outputs": [
    {
     "data": {
      "text/plain": [
       "Text(0, 0.5, 'Number of Fires')"
      ]
     },
     "execution_count": 3,
     "metadata": {},
     "output_type": "execute_result"
    },
    {
     "data": {
      "image/png": "[encoded data removed]",
      "text/plain": [
       "<Figure size 432x288 with 1 Axes>"
      ]
     },
     "metadata": {
      "needs_background": "light"
     },
     "output_type": "display_data"
    }
   ],
   "source": [
    "data = fire[\"neighborhood\"].value_counts()\n",
    "data.tail(10).plot(kind = \"bar\", ylim = [0, 25])\n",
    "plt.title(\"Fires in Neighborhoods\")\n",
    "plt.xlabel(\"Neighborhood\")\n",
    "plt.ylabel(\"Number of Fires\")\n",
    "# This shows a graph with the 10 neighborhoods with the least amount of fires."
   ]
  },
  {
   "cell_type": "code",
   "execution_count": null,
   "metadata": {},
   "outputs": [],
   "source": []
  }
 ],
 "metadata": {
  "kernelspec": {
   "display_name": "Python 3",
   "language": "python",
   "name": "python3"
  },
  "language_info": {
   "codemirror_mode": {
    "name": "ipython",
    "version": 3
   },
   "file_extension": ".py",
   "mimetype": "text/x-python",
   "name": "python",
   "nbconvert_exporter": "python",
   "pygments_lexer": "ipython3",
   "version": "3.8.3"
  }
 },
 "nbformat": 4,
 "nbformat_minor": 4
}
