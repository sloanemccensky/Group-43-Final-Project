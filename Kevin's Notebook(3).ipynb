Kevin's Notebook

My Dataset:

https://data.wprdc.org/dataset/pbp-fire-arm-seizures/resource/e967381d-d7e9-48e3-a2a2-39262f7fa5c4?view_id=4c4fa4d5-71cd-4aa7-92e8-18206b9140a0

The dataset I chosen discusses the number of firearms siezed by the Pittsburgh Police on a monthly basis. 
This can vary from individuals who were suspected of criminal offense to firearms that were left unattended in public. 
I chose this dataset because I believe it can help determine how safe a neighborhood is because of how dangerous firearms are. 
According to Amnesty.Org, m ore than 500 people die every day from gun violence, and 44% of all homicides globally involve gun violence. 
We can use the numbers to determine which neighborhood is the safest in Pittsburgh by checking which have the least number of firearms siezed as 
it can help show which neigborhoods own more firearms than others. I plan to abstract the code in order to see the siezed firearms rate rates per neighborhood. 
This will allow to determine which neighborhoods are safer or more dangerous based on the number of siezed firearms. 
I will also use the data to make a bar graph showing the number per neighborhood.

Answer:

What is the best neighborhood in Pittsburgh based on your work? How did you determine this answer? Communities with least amount of firearms siezed:

Swisshelm Park 3
Summer Hill 3
Mt. Oliver 3
Oakwood 3
Regent Square 3

Code:

import pandas as pd
import numpy as np
import matplotlib.pyplot as mpl

filename = "https://data.wprdc.org/datastore/dump/e967381d-d7e9-48e3-a2a2-39262f7fa5c4"
df = pd.read_csv(filename)
# Here I am importing my dataset

print(df)
# Test to make sure all data is imported accurately 

0      1700 BLOCK ARLINGTON AVE PITTSBURGH, PA 15210            2   
1        BREVET WAY & MINTON ST PITTSBURGH, PA 15204            1   
2     TERRACE ST & WHITRIDGE ST PITTSBURGH, PA 15213            1   
3         3500 BLOCK GERBER AVE PITTSBURGH, PA 15212            1   
4           7500 BLOCK KELLY ST PITTSBURGH, PA 15208            1   
...                                              ...          ...   
3953  7100 BLOCK FRANKSTOWN AVE PITTSBURGH, PA 15208            1   
3954     LINCOLN AVE & ROWAN ST PITTSBURGH, PA 15206            1   
3955    LINCOLN AVE & TENNIS ST PITTSBURGH, PA 15206            1   
3956       9TH ST & LIBERTY AVE PITTSBURGH, PA 15222            1   
3957      2000 BLOCK CENTRE AVE PITTSBURGH, PA 15219            1   

      other_count  pistol_count  revolver_count  rifle_count  shotgun_count  \
0               0             1               1            0              0   
1               0             1               0            0              0   
2               0             1               0            0              0   
3               0             1               0            0              0   
4               0             1               0            0              0   
...           ...           ...             ...          ...            ...   
3953            0             1               0            0              0   
3954            0             1               0            0              0   
3955            0             1               0            0              0   
3956            1             0               0            0              0   
3957            0             1               0            0              0   

      year  month  dow               neighborhood  council_district  ward  \
0     2015      1    0       Mount Oliver Borough               3.0   0.0   
1     2015      1    0                   Sheraden               2.0  20.0   
2     2015      1    0            Terrace Village               6.0   4.0   
3     2015      1    0           Brighton Heights               1.0  27.0   
4     2015      1    0                        NaN               NaN   NaN   
...    ...    ...  ...                        ...               ...   ...   
3953  2021     10    5             Homewood South               9.0  13.0   
3954  2021     10    5              Homewood West               9.0  12.0   
3955  2021     10    5   Lincoln-Lemington-Belmar               9.0  12.0   
3956  2021     10    6  Central Business District               6.0   2.0   
3957  2021     10    6           Crawford-Roberts               6.0   5.0   

             tract  public_works_division police_zone fire_zone   latitude  \
0     4.200317e+10                    0.0           3       4-6  40.417619   
1     4.200356e+10                    5.0           6      1-16  40.456904   
2     4.200305e+10                    3.0           2      2-10  40.441185   
3     4.200327e+10                    1.0           1      1-14  40.479530   
4              NaN                    NaN           5       NaN        NaN   
...            ...                    ...         ...       ...        ...   
3953  4.200313e+10                    2.0           5      3-17  40.457898   
3954  4.200312e+10                    2.0           5      3-15  40.463878   
3955  4.200312e+10                    2.0           5      3-15  40.463347   
3956  4.200302e+10                    6.0           2       1-3  40.442945   
3957  4.200305e+10                    3.0           2       2-1  40.443589   

      longitude  
0    -79.986436  
1    -80.052328  
2    -79.968527  
3    -80.033477  
4           NaN  
...         ...  
3953 -79.898500  
3954 -79.902063  
3955 -79.904103  
3956 -79.997977  
3957 -79.979982  

[3958 rows x 19 columns]

print(df['neighborhood'].unique().tolist())
# Prints a list of all unique neighborhood

['Mount Oliver Borough', 'Sheraden', 'Terrace Village', 'Brighton Heights', nan, 'Westwood', 'East Liberty', 'Upper Lawrenceville', 'Marshall-Shadeland', 'Beechview', 'East Hills', 'Arlington', 'Arlington Heights', 'Mount Washington', 'South Side Flats', 'Hazelwood', 'Homewood South', 'Greenfield', 'Bloomfield', 'Beltzhoover', 'Homewood North', 'Upper Hill', 'Perry South', 'Lincoln-Lemington-Belmar', 'Bedford Dwellings', 'Homewood West', 'Carrick', 'Central Northside', 'Chateau', 'Fineview', 'Chartiers City', 'Larimer', 'Polish Hill', 'South Shore', 'Highland Park', 'Knoxville', 'Lower Lawrenceville', 'Allentown', 'Spring Hill-City View', 'Garfield', 'Bluff', 'Overbrook', 'South Side Slopes', 'Central Business District', 'Banksville', 'Perry North', 'Friendship', 'Crawford-Roberts', 'Middle Hill', 'Brookline', 'Point Breeze', 'Crafton Heights', 'Northview Heights', 'South Oakland', 'Point Breeze North', 'East Allegheny', 'Elliott', 'Fairywood', 'Shadyside', 'Allegheny West', 'Manchester', 'North Oakland', 'Troy Hill', 'West Oakland', 'Summer Hill', 'Spring Garden', 'Stanton Heights', 'Allegheny Center', 'Glen Hazel', 'Squirrel Hill South', 'California-Kirkbride', 'Strip District', 'Squirrel Hill North', 'Morningside', 'Central Oakland', 'Central Lawrenceville', 'Regent Square', 'St. Clair', 'Duquesne Heights', 'Oakwood', 'Windgap', 'Bon Air', 'North Shore', 'Lincoln Place', 'Mt. Oliver', 'West End', 'Esplen', 'Hays', 'Swisshelm Park']

neighborhood_total_df = df.groupby(['neighborhood']).sum()
print("Total Number of Neighborhoods: ", len(neighborhood_total_df))
# Groups addresses into neighborhoods

Total Number of Neighborhoods:  88

sorted_neighborhood_total_df = neighborhood_total_df.sort_values(by=['total_count'], ascending=False)
print(sorted_neighborhood_total_df)
# Sorts neighborhoods by total firearms seized

total_count  other_count  pistol_count  revolver_count  \
neighborhood                                                               
Homewood South            300            3           220              42   
South Side Flats          174            5           153              12   
Homewood North            146            1           110              19   
East Liberty              140            1            93              10   
Carrick                   133            4            88              15   
...                       ...          ...           ...             ...   
Swisshelm Park              3            0             1               1   
Summer Hill                 3            0             2               0   
Mt. Oliver                  3            0             1               1   
Oakwood                     3            0             1               1   
Regent Square               3            0             2               1   

                  rifle_count  shotgun_count    year  month  dow  \
neighborhood                                                       
Homewood South             21             14  439942   1308  645   
South Side Flats            2              2  306763    970  527   
Homewood North             13              3  238105    774  365   
East Liberty               27              9  137197    445  193   
Carrick                    18              8  207867    615  371   
...                       ...            ...     ...    ...  ...   
Swisshelm Park              1              0    2020     11    2   
Summer Hill                 0              1    4034     15    9   
Mt. Oliver                  0              1    6055     19   11   
Oakwood                     0              1    6055     28    8   
Regent Square               0              0    6052     24   17   

                  council_district    ward         tract  \
neighborhood                                               
Homewood South              1944.0  2834.0  9.156683e+12   
South Side Flats             456.0  2551.0  6.384482e+12   
Homewood North              1062.0  1533.0  4.956369e+12   
East Liberty                 608.0   710.0  2.856212e+12   
Carrick                      412.0  2996.0  4.326339e+12   
...                            ...     ...           ...   
Swisshelm Park                 5.0    14.0  4.200314e+10   
Summer Hill                    2.0    52.0  8.400652e+10   
Mt. Oliver                     9.0    48.0  1.260107e+11   
Oakwood                        6.0    84.0  1.260106e+11   
Regent Square                 19.0    42.0  1.260094e+11   

                  public_works_division     latitude     longitude  
neighborhood                                                        
Homewood South                    436.0  8819.140449 -17416.722487  
South Side Flats                  456.0  6145.070299 -12156.975377  
Homewood North                    236.0  4774.198846  -9427.287671  
East Liberty                      136.0  2751.634059  -5434.819791  
Carrick                           309.0  4160.678386  -8238.613072  
...                                 ...          ...           ...  
Swisshelm Park                      3.0    40.419339    -79.901758  
Summer Hill                         2.0    80.995136   -160.025821  
Mt. Oliver                          9.0   121.234245   -239.937726  
Oakwood                            15.0   121.282741   -240.184600  
Regent Square                       9.0   121.314863   -239.690510  

[88 rows x 15 columns]

safest_df = sorted_neighborhood_total_df.loc[sorted_neighborhood_total_df['total_count'] == 3]
print("Number of safest neighborhoods: ", len(safest_df))
# Here I determine the safest neighborhoods by printing the neighborhoods with the lowest amount of firearm seizures

Number of safest neighborhoods:  5

                 total_count  other_count  pistol_count  revolver_count  \
neighborhood                                                             
Swisshelm Park            3            0             1               1   
Summer Hill               3            0             2               0   
Mt. Oliver                3            0             1               1   
Oakwood                   3            0             1               1   
Regent Square             3            0             2               1   

                rifle_count  shotgun_count  year  month  dow  \
neighborhood                                                   
Swisshelm Park            1              0  2020     11    2   
Summer Hill               0              1  4034     15    9   
Mt. Oliver                0              1  6055     19   11   
Oakwood                   0              1  6055     28    8   
Regent Square             0              0  6052     24   17   

                council_district  ward         tract  public_works_division  \
neighborhood                                                                  
Swisshelm Park               5.0  14.0  4.200314e+10                    3.0   
Summer Hill                  2.0  52.0  8.400652e+10                    2.0   
Mt. Oliver                   9.0  48.0  1.260107e+11                    9.0   
Oakwood                      6.0  84.0  1.260106e+11                   15.0   
Regent Square               19.0  42.0  1.260094e+11                    9.0   

                  latitude   longitude  
neighborhood                            
Swisshelm Park   40.419339  -79.901758  
Summer Hill      80.995136 -160.025821  
Mt. Oliver      121.234245 -239.937726  
Oakwood         121.282741 -240.184600  
Regent Square   121.314863 -239.690510  

firearms = pd.read_csv('https://data.wprdc.org/datastore/dump/e967381d-d7e9-48e3-a2a2-39262f7fa5c4')

data = firearms["neighborhood"].value_counts()
data.plot(kind = "bar", ylim = [0, 250])
data.head(10).plot(kind = "bar", ylim = [0, 250])
plt.show()
# This bar graph displays the firearm seizure data for the first ten neighborhoods in my dataset with the most firearms siezed

data:image/png;base64,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

data.tail(10).plot(kind = "bar", ylim = [0, 6])
plt.title("Firearms seized in neighborhood")
plt.xlabel("Neighborhoods")
plt.ylabel("Number of Firearm")
plt.show()
# This bar graph displays the 10 neighborhoods with the lowest amount of firearm seizures.

data:image/png;base64,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


Conclusion:

Based on the data, Swisshelm Park, Summer Hill, Mt.Oliver, Oakwood, and Regent Square has the least number of firearms seized. 
With a five way tie, it is hard to determine which neighborhood is truly the safest as 
I did not take into account the total population of each neighborhood as this information was not present in my dataset. Another short coming of this dataset is that
it did not specify, reason for the firearm siezure, which could help us give a better metric as to which we can measure how safe each neighborhood based on this data.
If the population of each neighborhood was given, and the reason for firearm siezure, a more concrete answer could be provided. 
As someone who grew up in a neighborhood that had no issues with guns, my findings within the dataset were surprising give the staggering numbers the 
top 10 neighborhoods had in a month. It truly goes to show how firearms can play a role in the safety of a community as having less of them can make a 
neighborhood feel safer and a better place to live in.
