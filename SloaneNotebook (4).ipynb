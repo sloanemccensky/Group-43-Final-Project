{
 "cells": [
  {
   "cell_type": "markdown",
   "metadata": {},
   "source": [
    "# Sloane's Notebook\n",
    "## Dataset:\n",
    "Title: Pittsburgh Police Arrest Data\n",
    "\n",
    "Link: https://data.wprdc.org/dataset/arrest-data\n",
    "\n",
    "Analysis:\n",
    "\n",
    "## Answer:\n",
    "What is the best neighborhood in Pittsburgh based on your work? How did you determine this answer?"
   ]
  },
  {
   "cell_type": "code",
   "execution_count": null,
   "metadata": {},
   "outputs": [],
   "source": [
    "Code goes here\n",
    "- Find neighborhood with least amount of reported crime"
   ]
  },
  {
   "cell_type": "code",
   "execution_count": null,
   "metadata": {},
   "outputs": [],
   "source": []
  }
 ],
 "metadata": {
  "kernelspec": {
   "display_name": "Python 3",
   "language": "python",
   "name": "python3"
  },
  "language_info": {
   "codemirror_mode": {
    "name": "ipython",
    "version": 3
   },
   "file_extension": ".py",
   "mimetype": "text/x-python",
   "name": "python",
   "nbconvert_exporter": "python",
   "pygments_lexer": "ipython3",
   "version": "3.8.3"
  }
 },
 "nbformat": 4,
 "nbformat_minor": 4
}
