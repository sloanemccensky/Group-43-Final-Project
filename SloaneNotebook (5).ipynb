{
 "cells": [
  {
   "cell_type": "markdown",
   "metadata": {},
   "source": [
    "## Sloane's Notebook\n",
    "### Dataset:\n",
    "##### Title:\n",
    "Pittsburgh Police Arrest Data\n",
    "##### Link: \n",
    "https://data.wprdc.org/dataset/arrest-data\n",
    "\n",
    "##### Analysis: \n",
    "\n",
    "The dataset I've selected for analysis is \"Pittsburgh Police Arrest Data.\" This dataset represents the number of police arrests within different neighborhoods across Pittsburgh starting on August 23, 2016 until the current day. It includes over 50,000 arrest data entries provided by the Pittsburgh Bureau of Police. I chose this dataset in particular as arrest rates correlate to the amount of crime committed within an area, and thus they are good indicators of an area's general level of safety. In my opinion, safety is one of the most important factors in deciding the worth and quality of an area or neighborhood. A safer neighborhood makes for an easier transition into the community, increases citizens' quality of life, and leads to greater community involvement. While safety is an important quality to me personally, it is also integral to creating optimal living conditions for at-risk or vulnerable groups such as expectant mothers, the elderly, and families with young children. I plan to use this dataset to determine the amount of arrests that have occurred within Pittsburgh neighborhoods over the last five years as well as which communities have logged the least amount of criminal arrests. I will then correlate this to the overall level of safety within an area and use this to determine the best neighborhoods according to those with the lowest amount of arrests.\n",
    "\n",
    "\n",
    "### Answer:\n",
    "\n",
    "What is the best neighborhood in Pittsburgh based on your work? How did you determine this answer?\n",
    "Communities with lease amount of reported arrests:\n",
    "* Regent Square, 27\n",
    "* Central Northside, 23\n",
    "* Mt. Oliver Boro, 17\n",
    "* Troy Hill-Herrs Island, 6\n",
    "* Mt. Oliver Neighborhood, 2\n",
    "\n",
    "Overall, Mt. Oliver Neighborhood is the best neighborhood in terms of safety due to its incredibly low arrest rate. \n",
    "\n",
    "### Code:"
   ]
  },
  {
   "cell_type": "code",
   "execution_count": null,
   "metadata": {},
   "outputs": [],
   "source": []
  },
  {
   "cell_type": "code",
   "execution_count": 18,
   "metadata": {},
   "outputs": [
    {
     "data": {
      "text/html": [
       "<div>\n",
       "<style scoped>\n",
       "    .dataframe tbody tr th:only-of-type {\n",
       "        vertical-align: middle;\n",
       "    }\n",
       "\n",
       "    .dataframe tbody tr th {\n",
       "        vertical-align: top;\n",
       "    }\n",
       "\n",
       "    .dataframe thead th {\n",
       "        text-align: right;\n",
       "    }\n",
       "</style>\n",
       "<table border=\"1\" class=\"dataframe\">\n",
       "  <thead>\n",
       "    <tr style=\"text-align: right;\">\n",
       "      <th></th>\n",
       "      <th>PK</th>\n",
       "      <th>CCR</th>\n",
       "      <th>AGE</th>\n",
       "      <th>GENDER</th>\n",
       "      <th>RACE</th>\n",
       "      <th>ARRESTTIME</th>\n",
       "      <th>ARRESTLOCATION</th>\n",
       "      <th>OFFENSES</th>\n",
       "      <th>INCIDENTLOCATION</th>\n",
       "      <th>INCIDENTNEIGHBORHOOD</th>\n",
       "      <th>INCIDENTZONE</th>\n",
       "      <th>INCIDENTTRACT</th>\n",
       "      <th>COUNCIL_DISTRICT</th>\n",
       "      <th>PUBLIC_WORKS_DIVISION</th>\n",
       "      <th>X</th>\n",
       "      <th>Y</th>\n",
       "    </tr>\n",
       "  </thead>\n",
       "  <tbody>\n",
       "    <tr>\n",
       "      <th>0</th>\n",
       "      <td>1975272</td>\n",
       "      <td>16158872</td>\n",
       "      <td>42.0</td>\n",
       "      <td>F</td>\n",
       "      <td>B</td>\n",
       "      <td>2016-08-24T12:20:00</td>\n",
       "      <td>4700 Block Centre AV Pittsburgh, PA 15213</td>\n",
       "      <td>3929 Retail Theft.</td>\n",
       "      <td>4700 Block Centre AV Pittsburgh, PA 15213</td>\n",
       "      <td>Bloomfield</td>\n",
       "      <td>5</td>\n",
       "      <td>804.0</td>\n",
       "      <td>8.0</td>\n",
       "      <td>2.0</td>\n",
       "      <td>-79.949277</td>\n",
       "      <td>40.452551</td>\n",
       "    </tr>\n",
       "    <tr>\n",
       "      <th>1</th>\n",
       "      <td>1974456</td>\n",
       "      <td>16144120</td>\n",
       "      <td>31.0</td>\n",
       "      <td>M</td>\n",
       "      <td>W</td>\n",
       "      <td>2016-08-03T14:55:00</td>\n",
       "      <td>4200 Block Steubenville PKE Pittsburgh, PA 15205</td>\n",
       "      <td>13(a)(16) Possession of Controlled Substance</td>\n",
       "      <td>4200 Block Steubenville PKE Pittsburgh, PA 15205</td>\n",
       "      <td>Outside City</td>\n",
       "      <td>OSC</td>\n",
       "      <td>5599.0</td>\n",
       "      <td>NaN</td>\n",
       "      <td>NaN</td>\n",
       "      <td>-80.088018</td>\n",
       "      <td>40.440136</td>\n",
       "    </tr>\n",
       "    <tr>\n",
       "      <th>2</th>\n",
       "      <td>1974466</td>\n",
       "      <td>16144165</td>\n",
       "      <td>63.0</td>\n",
       "      <td>F</td>\n",
       "      <td>B</td>\n",
       "      <td>2016-08-03T16:45:00</td>\n",
       "      <td>900 Block Freeport RD Fox Chapel, PA 15238</td>\n",
       "      <td>3929 Retail Theft.</td>\n",
       "      <td>900 Block Freeport RD Fox Chapel, PA 15238</td>\n",
       "      <td>Westwood</td>\n",
       "      <td>5</td>\n",
       "      <td>2811.0</td>\n",
       "      <td>9.0</td>\n",
       "      <td>2.0</td>\n",
       "      <td>-79.891803</td>\n",
       "      <td>40.486625</td>\n",
       "    </tr>\n",
       "    <tr>\n",
       "      <th>3</th>\n",
       "      <td>1974550</td>\n",
       "      <td>16145257</td>\n",
       "      <td>25.0</td>\n",
       "      <td>F</td>\n",
       "      <td>W</td>\n",
       "      <td>2016-08-05T02:36:00</td>\n",
       "      <td>Foreland ST &amp; Cedar AV Pittsburgh, PA 15212</td>\n",
       "      <td>5503 Disorderly Conduct. / 5505 Public Drunken...</td>\n",
       "      <td>Foreland ST &amp; Cedar AV Pittsburgh, PA 15212</td>\n",
       "      <td>East Allegheny</td>\n",
       "      <td>1</td>\n",
       "      <td>2304.0</td>\n",
       "      <td>1.0</td>\n",
       "      <td>1.0</td>\n",
       "      <td>-80.001939</td>\n",
       "      <td>40.454080</td>\n",
       "    </tr>\n",
       "    <tr>\n",
       "      <th>4</th>\n",
       "      <td>1974596</td>\n",
       "      <td>16145962</td>\n",
       "      <td>25.0</td>\n",
       "      <td>M</td>\n",
       "      <td>B</td>\n",
       "      <td>2016-08-06T02:00:00</td>\n",
       "      <td>900 Block Woodlow ST Pittsburgh, PA 15205</td>\n",
       "      <td>2702 Aggravated Assault. / 2705 Recklessy Enda...</td>\n",
       "      <td>900 Block Woodlow ST Pittsburgh, PA 15205</td>\n",
       "      <td>Crafton Heights</td>\n",
       "      <td>5</td>\n",
       "      <td>2814.0</td>\n",
       "      <td>2.0</td>\n",
       "      <td>5.0</td>\n",
       "      <td>-80.052204</td>\n",
       "      <td>40.445900</td>\n",
       "    </tr>\n",
       "    <tr>\n",
       "      <th>5</th>\n",
       "      <td>1974556</td>\n",
       "      <td>16144301</td>\n",
       "      <td>45.0</td>\n",
       "      <td>M</td>\n",
       "      <td>W</td>\n",
       "      <td>2016-08-15T13:30:00</td>\n",
       "      <td>600 Block 1st AV Pittsburgh, PA 15219</td>\n",
       "      <td>3929 Retail Theft.</td>\n",
       "      <td>800 Block Hazelwood AV Pittsburgh, PA 15217</td>\n",
       "      <td>Greenfield</td>\n",
       "      <td>4</td>\n",
       "      <td>1517.0</td>\n",
       "      <td>5.0</td>\n",
       "      <td>3.0</td>\n",
       "      <td>-79.929238</td>\n",
       "      <td>40.419699</td>\n",
       "    </tr>\n",
       "    <tr>\n",
       "      <th>6</th>\n",
       "      <td>1974628</td>\n",
       "      <td>16147655</td>\n",
       "      <td>29.0</td>\n",
       "      <td>M</td>\n",
       "      <td>W</td>\n",
       "      <td>2016-08-16T13:00:00</td>\n",
       "      <td>2300 Block Pioneer AV Pittsburgh, PA 15226</td>\n",
       "      <td>2701 Simple Assault.</td>\n",
       "      <td>2300 Block Pioneer AV Pittsburgh, PA 15226</td>\n",
       "      <td>Brookline</td>\n",
       "      <td>6</td>\n",
       "      <td>1919.0</td>\n",
       "      <td>4.0</td>\n",
       "      <td>5.0</td>\n",
       "      <td>-80.020357</td>\n",
       "      <td>40.400037</td>\n",
       "    </tr>\n",
       "    <tr>\n",
       "      <th>7</th>\n",
       "      <td>1974607</td>\n",
       "      <td>16146037</td>\n",
       "      <td>21.0</td>\n",
       "      <td>F</td>\n",
       "      <td>B</td>\n",
       "      <td>2016-08-16T04:25:00</td>\n",
       "      <td>600 Block 1st AV Pittsburgh, PA 15219</td>\n",
       "      <td>2701 Simple Assault. / 5505 Public Drunkenness...</td>\n",
       "      <td>700 Block S Braddock AV Pittsburgh, PA 15221</td>\n",
       "      <td>Regent Square</td>\n",
       "      <td>4</td>\n",
       "      <td>1410.0</td>\n",
       "      <td>NaN</td>\n",
       "      <td>NaN</td>\n",
       "      <td>-79.834462</td>\n",
       "      <td>40.398957</td>\n",
       "    </tr>\n",
       "    <tr>\n",
       "      <th>8</th>\n",
       "      <td>1974643</td>\n",
       "      <td>16132537</td>\n",
       "      <td>17.0</td>\n",
       "      <td>M</td>\n",
       "      <td>B</td>\n",
       "      <td>2016-08-29T17:55:00</td>\n",
       "      <td>1400 Block Washington BL Pittsburgh, PA 15206</td>\n",
       "      <td>903 Criminal Conspiracy. / 3701 Robbery.</td>\n",
       "      <td>N Euclid AV &amp; Broad ST Pittsburgh, PA 15206</td>\n",
       "      <td>East Liberty</td>\n",
       "      <td>5</td>\n",
       "      <td>1115.0</td>\n",
       "      <td>NaN</td>\n",
       "      <td>NaN</td>\n",
       "      <td>0.000000</td>\n",
       "      <td>0.000000</td>\n",
       "    </tr>\n",
       "    <tr>\n",
       "      <th>9</th>\n",
       "      <td>1974647</td>\n",
       "      <td>16138646</td>\n",
       "      <td>14.0</td>\n",
       "      <td>M</td>\n",
       "      <td>B</td>\n",
       "      <td>2016-08-23T13:36:00</td>\n",
       "      <td>Zone 2</td>\n",
       "      <td>3127 Indecent Exposure. / 3123(a)(6) IDSI with...</td>\n",
       "      <td>Zone 5</td>\n",
       "      <td>NaN</td>\n",
       "      <td>5</td>\n",
       "      <td>NaN</td>\n",
       "      <td>NaN</td>\n",
       "      <td>NaN</td>\n",
       "      <td>NaN</td>\n",
       "      <td>NaN</td>\n",
       "    </tr>\n",
       "  </tbody>\n",
       "</table>\n",
       "</div>"
      ],
      "text/plain": [
       "        PK       CCR   AGE GENDER RACE           ARRESTTIME  \\\n",
       "0  1975272  16158872  42.0      F    B  2016-08-24T12:20:00   \n",
       "1  1974456  16144120  31.0      M    W  2016-08-03T14:55:00   \n",
       "2  1974466  16144165  63.0      F    B  2016-08-03T16:45:00   \n",
       "3  1974550  16145257  25.0      F    W  2016-08-05T02:36:00   \n",
       "4  1974596  16145962  25.0      M    B  2016-08-06T02:00:00   \n",
       "5  1974556  16144301  45.0      M    W  2016-08-15T13:30:00   \n",
       "6  1974628  16147655  29.0      M    W  2016-08-16T13:00:00   \n",
       "7  1974607  16146037  21.0      F    B  2016-08-16T04:25:00   \n",
       "8  1974643  16132537  17.0      M    B  2016-08-29T17:55:00   \n",
       "9  1974647  16138646  14.0      M    B  2016-08-23T13:36:00   \n",
       "\n",
       "                                     ARRESTLOCATION  \\\n",
       "0         4700 Block Centre AV Pittsburgh, PA 15213   \n",
       "1  4200 Block Steubenville PKE Pittsburgh, PA 15205   \n",
       "2        900 Block Freeport RD Fox Chapel, PA 15238   \n",
       "3       Foreland ST & Cedar AV Pittsburgh, PA 15212   \n",
       "4         900 Block Woodlow ST Pittsburgh, PA 15205   \n",
       "5             600 Block 1st AV Pittsburgh, PA 15219   \n",
       "6        2300 Block Pioneer AV Pittsburgh, PA 15226   \n",
       "7             600 Block 1st AV Pittsburgh, PA 15219   \n",
       "8     1400 Block Washington BL Pittsburgh, PA 15206   \n",
       "9                                            Zone 2   \n",
       "\n",
       "                                            OFFENSES  \\\n",
       "0                                 3929 Retail Theft.   \n",
       "1       13(a)(16) Possession of Controlled Substance   \n",
       "2                                 3929 Retail Theft.   \n",
       "3  5503 Disorderly Conduct. / 5505 Public Drunken...   \n",
       "4  2702 Aggravated Assault. / 2705 Recklessy Enda...   \n",
       "5                                 3929 Retail Theft.   \n",
       "6                               2701 Simple Assault.   \n",
       "7  2701 Simple Assault. / 5505 Public Drunkenness...   \n",
       "8           903 Criminal Conspiracy. / 3701 Robbery.   \n",
       "9  3127 Indecent Exposure. / 3123(a)(6) IDSI with...   \n",
       "\n",
       "                                   INCIDENTLOCATION INCIDENTNEIGHBORHOOD  \\\n",
       "0         4700 Block Centre AV Pittsburgh, PA 15213           Bloomfield   \n",
       "1  4200 Block Steubenville PKE Pittsburgh, PA 15205         Outside City   \n",
       "2        900 Block Freeport RD Fox Chapel, PA 15238             Westwood   \n",
       "3       Foreland ST & Cedar AV Pittsburgh, PA 15212       East Allegheny   \n",
       "4         900 Block Woodlow ST Pittsburgh, PA 15205      Crafton Heights   \n",
       "5       800 Block Hazelwood AV Pittsburgh, PA 15217           Greenfield   \n",
       "6        2300 Block Pioneer AV Pittsburgh, PA 15226            Brookline   \n",
       "7      700 Block S Braddock AV Pittsburgh, PA 15221        Regent Square   \n",
       "8       N Euclid AV & Broad ST Pittsburgh, PA 15206         East Liberty   \n",
       "9                                            Zone 5                  NaN   \n",
       "\n",
       "  INCIDENTZONE  INCIDENTTRACT  COUNCIL_DISTRICT  PUBLIC_WORKS_DIVISION  \\\n",
       "0            5          804.0               8.0                    2.0   \n",
       "1          OSC         5599.0               NaN                    NaN   \n",
       "2            5         2811.0               9.0                    2.0   \n",
       "3            1         2304.0               1.0                    1.0   \n",
       "4            5         2814.0               2.0                    5.0   \n",
       "5            4         1517.0               5.0                    3.0   \n",
       "6            6         1919.0               4.0                    5.0   \n",
       "7            4         1410.0               NaN                    NaN   \n",
       "8            5         1115.0               NaN                    NaN   \n",
       "9            5            NaN               NaN                    NaN   \n",
       "\n",
       "           X          Y  \n",
       "0 -79.949277  40.452551  \n",
       "1 -80.088018  40.440136  \n",
       "2 -79.891803  40.486625  \n",
       "3 -80.001939  40.454080  \n",
       "4 -80.052204  40.445900  \n",
       "5 -79.929238  40.419699  \n",
       "6 -80.020357  40.400037  \n",
       "7 -79.834462  40.398957  \n",
       "8   0.000000   0.000000  \n",
       "9        NaN        NaN  "
      ]
     },
     "execution_count": 18,
     "metadata": {},
     "output_type": "execute_result"
    }
   ],
   "source": [
    "import csv\n",
    "import pandas as pd\n",
    "import numpy as np\n",
    "%matplotlib inline\n",
    "\n",
    "crimedata = pd.read_csv(\"https://data.wprdc.org/datastore/dump/e03a89dd-134a-4ee8-a2bd-62c40aeebc6f\")\n",
    "crimedata.head(10) # First ten rows of the dataset, test to see if the data loads"
   ]
  },
  {
   "cell_type": "code",
   "execution_count": 12,
   "metadata": {},
   "outputs": [
    {
     "data": {
      "text/plain": [
       "array(['Bloomfield', 'Outside City', 'Westwood', 'East Allegheny',\n",
       "       'Crafton Heights', 'Greenfield', 'Brookline', 'Regent Square',\n",
       "       'East Liberty', nan, 'East Hills', 'Carrick', 'Allegheny Center',\n",
       "       'South Side Flats', 'Sheraden', 'East Carnegie',\n",
       "       'Golden Triangle/Civic Arena', 'Point Breeze North', 'Perry South',\n",
       "       'Allentown', 'North Shore', 'Marshall-Shadeland',\n",
       "       'Central Oakland', 'Middle Hill', 'Strip District',\n",
       "       'Lincoln-Lemington-Belmar', 'Central Northside',\n",
       "       'Troy Hill-Herrs Island', 'Highland Park', 'Homewood North',\n",
       "       'Northview Heights', 'Brighton Heights', 'Hazelwood',\n",
       "       'Perry North', 'Bedford Dwellings', 'Elliott', 'Beechview',\n",
       "       'Fineview', 'Glen Hazel', 'Spring Hill-City View', 'Bluff',\n",
       "       'Manchester', 'Homewood West', 'Outside County', 'Point Breeze',\n",
       "       'Homewood South', 'Squirrel Hill South', 'Terrace Village',\n",
       "       'Upper Lawrenceville', 'Arlington', 'South Side Slopes',\n",
       "       'Lower Lawrenceville', 'Garfield', 'Lincoln Place', 'Larimer',\n",
       "       'Mount Washington', 'California-Kirkbride', 'Banksville',\n",
       "       'Bon Air', 'South Shore', 'Beltzhoover', 'Knoxville', 'Chateau',\n",
       "       'Crawford-Roberts', 'Polish Hill', 'Fairywood', 'West End',\n",
       "       'Shadyside', 'Morningside', 'Overbrook', 'Friendship',\n",
       "       'North Oakland', 'Central Lawrenceville', 'Oakwood', 'Upper Hill',\n",
       "       'South Oakland', 'West Oakland', 'Spring Garden', 'Allegheny West',\n",
       "       'St. Clair', 'Stanton Heights', 'Esplen', 'Squirrel Hill North',\n",
       "       'Mt. Oliver Neighborhood', 'Summer Hill', 'Arlington Heights',\n",
       "       'Troy Hill', 'Central Business District', 'Central North Side',\n",
       "       'Mount Oliver', 'Windgap', 'Outside State', 'Duquesne Heights',\n",
       "       'New Homestead', 'Ridgemont', 'Swisshelm Park', 'Hays',\n",
       "       'Chartiers City', 'Mt. Oliver Boro'], dtype=object)"
      ]
     },
     "execution_count": 12,
     "metadata": {},
     "output_type": "execute_result"
    }
   ],
   "source": [
    "crimedata['INCIDENTNEIGHBORHOOD'].unique() # This allows me to see which neighborhoods are accounted for in the dataset"
   ]
  },
  {
   "cell_type": "code",
   "execution_count": 25,
   "metadata": {},
   "outputs": [
    {
     "data": {
      "text/plain": [
       "51854"
      ]
     },
     "execution_count": 25,
     "metadata": {},
     "output_type": "execute_result"
    }
   ],
   "source": [
    "len(crimedata.index)\n",
    "# This displays the total amount of arrest reports logged in the dataset"
   ]
  },
  {
   "cell_type": "code",
   "execution_count": 13,
   "metadata": {},
   "outputs": [
    {
     "data": {
      "text/plain": [
       "99"
      ]
     },
     "execution_count": 13,
     "metadata": {},
     "output_type": "execute_result"
    }
   ],
   "source": [
    "len(crimedata['INCIDENTNEIGHBORHOOD'].unique()) # This shows the number of neighborhoods represented in the dataset"
   ]
  },
  {
   "cell_type": "code",
   "execution_count": 14,
   "metadata": {},
   "outputs": [
    {
     "data": {
      "text/plain": [
       "Central Business District    3173\n",
       "South Side Flats             2682\n",
       "Carrick                      1847\n",
       "East Allegheny               1716\n",
       "Homewood South               1683\n",
       "                             ... \n",
       "Regent Square                  27\n",
       "Central Northside              23\n",
       "Mt. Oliver Boro                17\n",
       "Troy Hill-Herrs Island          6\n",
       "Mt. Oliver Neighborhood         2\n",
       "Name: INCIDENTNEIGHBORHOOD, Length: 98, dtype: int64"
      ]
     },
     "execution_count": 14,
     "metadata": {},
     "output_type": "execute_result"
    }
   ],
   "source": [
    "crimedata['INCIDENTNEIGHBORHOOD'].value_counts() \n",
    "# This shows how many entries were logged for each neighborhood within the dataset\n",
    "# It shows the five neighborhoods with the most arrest entries and the five with the least"
   ]
  },
  {
   "cell_type": "code",
   "execution_count": 15,
   "metadata": {},
   "outputs": [
    {
     "data": {
      "text/plain": [
       "509.2040816326531"
      ]
     },
     "execution_count": 15,
     "metadata": {},
     "output_type": "execute_result"
    }
   ],
   "source": [
    "meancrime = crimedata['INCIDENTNEIGHBORHOOD'].value_counts()\n",
    "meancrime.mean()\n",
    "# Here I've determined the mean amount of arrests for Pittsburgh neighborhoods by taking the mean of the dataset's neighborhood entry counts.\n",
    "# The mean for Pittsburgh neighborhoods is about 509 arrest reports."
   ]
  },
  {
   "cell_type": "code",
   "execution_count": 16,
   "metadata": {},
   "outputs": [
    {
     "data": {
      "text/plain": [
       "Mt. Oliver Neighborhood    2\n",
       "Name: INCIDENTNEIGHBORHOOD, dtype: int64"
      ]
     },
     "execution_count": 16,
     "metadata": {},
     "output_type": "execute_result"
    }
   ],
   "source": [
    "query_mask = crimedata['INCIDENTNEIGHBORHOOD'] == \"Mt. Oliver Neighborhood\"\n",
    "olivercrime = crimedata[query_mask]\n",
    "olivercrime['INCIDENTNEIGHBORHOOD'].value_counts() \n",
    "# Test to make sure Mt. Oliver Neighborhood really does have the least amount of arrest entries\n",
    "# It does only have 2 entries, so the dataset value count data is accurate."
   ]
  },
  {
   "cell_type": "code",
   "execution_count": 17,
   "metadata": {},
   "outputs": [
    {
     "data": {
      "text/plain": [
       "Central Oakland    410\n",
       "Name: INCIDENTNEIGHBORHOOD, dtype: int64"
      ]
     },
     "execution_count": 17,
     "metadata": {},
     "output_type": "execute_result"
    }
   ],
   "source": [
    "query_mask = crimedata['INCIDENTNEIGHBORHOOD'] == \"Central Oakland\"\n",
    "oaklandcrime = crimedata[query_mask]\n",
    "oaklandcrime['INCIDENTNEIGHBORHOOD'].value_counts() \n",
    "# Small test to see where Central Oakland ranks in terms of crime\n",
    "# Oakland ranks above average in terms of arrests with 410 reports. "
   ]
  }
 ],
 "metadata": {
  "kernelspec": {
   "display_name": "Python 3",
   "language": "python",
   "name": "python3"
  },
  "language_info": {
   "codemirror_mode": {
    "name": "ipython",
    "version": 3
   },
   "file_extension": ".py",
   "mimetype": "text/x-python",
   "name": "python",
   "nbconvert_exporter": "python",
   "pygments_lexer": "ipython3",
   "version": "3.8.3"
  }
 },
 "nbformat": 4,
 "nbformat_minor": 4
}
